{
 "cells": [
  {
   "cell_type": "code",
   "execution_count": 7,
   "id": "6ff4a6a3-59f1-4b49-a90d-046b4039d980",
   "metadata": {},
   "outputs": [
    {
     "name": "stdout",
     "output_type": "stream",
     "text": [
      "Shape of the data: (11846, 20)\n"
     ]
    }
   ],
   "source": [
    "#Load the Data and Check Its Dimensions\n",
    "import pandas as pd\n",
    "\n",
    "# Load the dataset\n",
    "data = pd.read_csv('NTAD_National_Transit_Map_Stops_6441998935608889887.csv')\n",
    "\n",
    "# Check the shape of the dataset\n",
    "print(\"Shape of the data:\", data.shape)\n"
   ]
  },
  {
   "cell_type": "code",
   "execution_count": 8,
   "id": "b2cb0fb3-b28c-480f-b29b-ebd7cb0406ff",
   "metadata": {},
   "outputs": [
    {
     "name": "stdout",
     "output_type": "stream",
     "text": [
      "<class 'pandas.core.frame.DataFrame'>\n",
      "RangeIndex: 11846 entries, 0 to 11845\n",
      "Data columns (total 20 columns):\n",
      " #   Column               Non-Null Count  Dtype  \n",
      "---  ------               --------------  -----  \n",
      " 0   OBJECTID             11846 non-null  int64  \n",
      " 1   ntd_id               11846 non-null  object \n",
      " 2   stop_id              11846 non-null  object \n",
      " 3   stop_name            11846 non-null  object \n",
      " 4   stop_desc            883 non-null    object \n",
      " 5   stop_lat             11846 non-null  float64\n",
      " 6   stop_lon             11846 non-null  float64\n",
      " 7   zone_id              5 non-null      float64\n",
      " 8   stop_url             67 non-null     object \n",
      " 9   stop_code            10894 non-null  object \n",
      " 10  location_type        3968 non-null   object \n",
      " 11  parent_station       251 non-null    object \n",
      " 12  stop_timezone        598 non-null    object \n",
      " 13  wheelchair_boarding  11845 non-null  object \n",
      " 14  level_id             0 non-null      float64\n",
      " 15  platform_code        0 non-null      float64\n",
      " 16  agency_id            0 non-null      float64\n",
      " 17  download_date        11846 non-null  object \n",
      " 18  x                    11846 non-null  float64\n",
      " 19  y                    11846 non-null  float64\n",
      "dtypes: float64(8), int64(1), object(11)\n",
      "memory usage: 1.8+ MB\n"
     ]
    }
   ],
   "source": [
    "# Inspect the Data Structure and Basic Information\n",
    "# Get an overview of the dataset\n",
    "data.info()\n"
   ]
  },
  {
   "cell_type": "code",
   "execution_count": 9,
   "id": "34bc3a1d-150d-497a-a42d-6819a866e8a3",
   "metadata": {},
   "outputs": [
    {
     "name": "stdout",
     "output_type": "stream",
     "text": [
      "   OBJECTID                                             ntd_id  stop_id  \\\n",
      "0    387339                                              90154    14710   \n",
      "1    631486  90269;90270;90271;90272;90273;90274;90275;9027...  2525664   \n",
      "2    387007                                              90154    14143   \n",
      "3    390991                                              90154   80704S   \n",
      "4    390588                                              90154     2319   \n",
      "\n",
      "                    stop_name stop_desc   stop_lat    stop_lon  zone_id  \\\n",
      "0        State / Independence       NaN  33.958450 -118.211760      NaN   \n",
      "1          92nd St & Maie Ave       NaN  33.953366 -118.243808      NaN   \n",
      "2          Western / Florence       NaN  33.974159 -118.309117      NaN   \n",
      "3  Downtown Inglewood Station       NaN  33.967156 -118.351497      NaN   \n",
      "4  Hawthorne / Lennox Station       NaN  33.933451 -118.352446      NaN   \n",
      "\n",
      "  stop_url stop_code location_type parent_station        stop_timezone  \\\n",
      "0      NaN     14710           NaN            NaN                  NaN   \n",
      "1      NaN       NaN             0            NaN  America/Los_Angeles   \n",
      "2      NaN     14143           NaN            NaN                  NaN   \n",
      "3      NaN    80704S             1            NaN                  NaN   \n",
      "4      NaN      2319           NaN            NaN                  NaN   \n",
      "\n",
      "  wheelchair_boarding  level_id  platform_code  agency_id download_date  \\\n",
      "0                Null       NaN            NaN        NaN    09-09-2024   \n",
      "1                   0       NaN            NaN        NaN    09-09-2024   \n",
      "2                Null       NaN            NaN        NaN    09-09-2024   \n",
      "3                Null       NaN            NaN        NaN    09-09-2024   \n",
      "4                Null       NaN            NaN        NaN    09-09-2024   \n",
      "\n",
      "            x          y  \n",
      "0 -118.211760  33.958450  \n",
      "1 -118.243808  33.953366  \n",
      "2 -118.309117  33.974159  \n",
      "3 -118.351497  33.967156  \n",
      "4 -118.352446  33.933451  \n"
     ]
    }
   ],
   "source": [
    "# Preview the First Few Rows\n",
    "# Preview the first 5 rows of the dataset\n",
    "print(data.head())\n"
   ]
  },
  {
   "cell_type": "code",
   "execution_count": 10,
   "id": "f08ba93c-c4df-41e9-b68d-ee4a0c4e80ac",
   "metadata": {},
   "outputs": [
    {
     "name": "stdout",
     "output_type": "stream",
     "text": [
      "OBJECTID\n",
      "387699    1\n",
      "387339    1\n",
      "631486    1\n",
      "387007    1\n",
      "390991    1\n",
      "         ..\n",
      "380177    1\n",
      "641565    1\n",
      "385750    1\n",
      "389331    1\n",
      "170654    1\n",
      "Name: count, Length: 11846, dtype: int64\n"
     ]
    }
   ],
   "source": [
    "# Count Unique Values in a Specific Column\n",
    "# Count the values in the 'OBJECTID' column (or any other relevant column)\n",
    "print(data['OBJECTID'].value_counts())\n"
   ]
  }
 ],
 "metadata": {
  "kernelspec": {
   "display_name": "Python 3 (ipykernel)",
   "language": "python",
   "name": "python3"
  },
  "language_info": {
   "codemirror_mode": {
    "name": "ipython",
    "version": 3
   },
   "file_extension": ".py",
   "mimetype": "text/x-python",
   "name": "python",
   "nbconvert_exporter": "python",
   "pygments_lexer": "ipython3",
   "version": "3.11.9"
  }
 },
 "nbformat": 4,
 "nbformat_minor": 5
}
